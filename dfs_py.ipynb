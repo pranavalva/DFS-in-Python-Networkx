{
 "cells": [
  {
   "cell_type": "code",
   "execution_count": 1,
   "metadata": {},
   "outputs": [],
   "source": [
    "# importing required libraries\n",
    "import networkx as nx\n",
    "import urllib3\n",
    "http = urllib3.PoolManager()\n",
    "homer = http.request('GET', 'http://ftp.cs.stanford.edu/pub/sgb/homer.dat')"
   ]
  },
  {
   "cell_type": "code",
   "execution_count": 2,
   "metadata": {},
   "outputs": [],
   "source": [
    "# function to read in the nodes of a graph from passed input file and returns list of nodes\n",
    "def read_nodes(gfile):\n",
    "    # initializing empty nodes array\n",
    "    nodes = []\n",
    "    # splitting data into lines\n",
    "    lines = homer.data.splitlines()\n",
    "    # iterating over lines and extracting nodes\n",
    "    for line in lines:\n",
    "        if len(line) != 0:\n",
    "            if line[:1] != b'*':\n",
    "                if b':' not in line[:3]:\n",
    "                    yield str(line[:2],'utf-8')\n",
    "                else:\n",
    "                    break"
   ]
  },
  {
   "cell_type": "code",
   "execution_count": 3,
   "metadata": {},
   "outputs": [],
   "source": [
    "# reads edges from the input file and returns list of edge pairs\n",
    "def read_edges(gfile):\n",
    "    # splitting data into lines\n",
    "    lines = homer.data.splitlines()\n",
    "    # iterating over lines and extracting pairwise nodes as edges\n",
    "    for line in lines:\n",
    "        if len(line) > 1:\n",
    "            if b':' in line:\n",
    "                index = line.index(b':')\n",
    "                line = line[(index+1):]\n",
    "                all_rel_nodes = line.split(b';')\n",
    "                for rel_nodes in all_rel_nodes:\n",
    "                    rel_nodes = rel_nodes.split(b',')\n",
    "                    for index_node1 in range(len(rel_nodes)-1):\n",
    "                        for index_node2 in range(index_node1+1, len(rel_nodes)):\n",
    "                            pair_of_nodes = (str(rel_nodes[index_node1],'utf-8'), str(rel_nodes[index_node2],'utf-8'))\n",
    "                            yield pair_of_nodes"
   ]
  },
  {
   "cell_type": "code",
   "execution_count": 4,
   "metadata": {},
   "outputs": [],
   "source": [
    "# initializing graph object\n",
    "G = nx.Graph()\n",
    "G.add_nodes_from(read_nodes(homer))\n",
    "G.add_edges_from(read_edges(homer))"
   ]
  },
  {
   "cell_type": "code",
   "execution_count": 5,
   "metadata": {},
   "outputs": [],
   "source": [
    "# function which performs DFS on the graph and returns list of nodes in the order of first visited\n",
    "def Search(graph, root):\n",
    "    result = [root]\n",
    "    def Find(graph, root):\n",
    "        for new in sorted(graph.neighbors(root)):\n",
    "            if new not in result:\n",
    "                result.append(new)       \n",
    "                Find(graph, new)\n",
    "    Find(graph, root)\n",
    "    return result"
   ]
  },
  {
   "cell_type": "code",
   "execution_count": 6,
   "metadata": {},
   "outputs": [],
   "source": [
    "ulysses = Search(G,'OD')"
   ]
  },
  {
   "cell_type": "code",
   "execution_count": 7,
   "metadata": {},
   "outputs": [],
   "source": [
    "# function to compute the connected components of the graph and return the components in the order of their root nodes\n",
    "def connected_components(graph):\n",
    "    result = []\n",
    "    nodes_not_visited = graph.nodes()\n",
    "    while len(nodes_not_visited) != 0:\n",
    "        nodes_not_visited=sorted(nodes_not_visited)\n",
    "        root = nodes_not_visited[0]\n",
    "        connected_component = Search(graph, root)\n",
    "        result.append(connected_component)\n",
    "        nodes_not_visited = [k for k in nodes_not_visited if k not in connected_component]\n",
    "    return result"
   ]
  },
  {
   "cell_type": "code",
   "execution_count": 8,
   "metadata": {},
   "outputs": [],
   "source": [
    "# storing the connected components of the graph in a variable\n",
    "character_interactions = connected_components(G)"
   ]
  },
  {
   "cell_type": "code",
   "execution_count": 9,
   "metadata": {},
   "outputs": [
    {
     "name": "stdout",
     "output_type": "stream",
     "text": [
      "There are 12 connected components in the Iliad: True\n",
      "The giant component has size 542: True\n",
      "There are 5 isolated characters: True\n"
     ]
    }
   ],
   "source": [
    "# checking for correctness of the algorithm\n",
    "component_sizes = [len(c) for c in character_interactions]\n",
    "print (\"There are 12 connected components in the Iliad: {}\" .format(len(component_sizes) == 12))\n",
    "print (\"The giant component has size 542: {}\".format(max(component_sizes) == 542))\n",
    "print (\"There are 5 isolated characters: {}\".format(len([c for c in component_sizes if c == 1]) == 5))"
   ]
  }
 ],
 "metadata": {
  "kernelspec": {
   "display_name": "coms007",
   "language": "python",
   "name": "coms007"
  },
  "language_info": {
   "codemirror_mode": {
    "name": "ipython",
    "version": 3
   },
   "file_extension": ".py",
   "mimetype": "text/x-python",
   "name": "python",
   "nbconvert_exporter": "python",
   "pygments_lexer": "ipython3",
   "version": "3.7.0"
  }
 },
 "nbformat": 4,
 "nbformat_minor": 1
}
